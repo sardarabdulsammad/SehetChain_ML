{
 "cells": [
  {
   "cell_type": "code",
   "execution_count": 78,
   "id": "1c7822b1",
   "metadata": {},
   "outputs": [],
   "source": [
    "import pandas as pd\n",
    "import numpy as np\n",
    "import seaborn as sns\n",
    "import matplotlib.pyplot as plt\n",
    "import sklearn"
   ]
  },
  {
   "cell_type": "code",
   "execution_count": 79,
   "id": "1aa833dc",
   "metadata": {},
   "outputs": [],
   "source": [
    "cols=['age','gender','chest_pain_type','resting_BP','serum_cholestoral','fasting_BP','resting_electrocardiographic','maximum_heartRate','exercise_induced_angina','oldpeak','slope_peak_ex','no_of_major_vessels','thal','num']\n",
    "data = pd.read_csv('processed.cleveland.data', header=None, delimiter=\",\", names=cols)\n",
    "df=pd.DataFrame(data)\n",
    "df['no_of_major_vessels']=df['no_of_major_vessels'].replace('?', np.nan)\n",
    "df['thal']=df['thal'].replace('?', np.nan)\n",
    "df=df.dropna()\n",
    "df['num']=df['num'].where(df[\"num\"] < 1 , 1)"
   ]
  },
  {
   "cell_type": "code",
   "execution_count": 80,
   "id": "5bc2bc2b",
   "metadata": {},
   "outputs": [],
   "source": [
    "#trainTestSPlit:\n",
    "from sklearn.model_selection import train_test_split\n",
    "train_set,test_set=train_test_split(df , test_size=0.2 , random_state=42)"
   ]
  },
  {
   "cell_type": "code",
   "execution_count": 101,
   "id": "c9274710",
   "metadata": {},
   "outputs": [
    {
     "name": "stdout",
     "output_type": "stream",
     "text": [
      "1 : age\n",
      "2 : gender\n",
      "3 : chest_pain_type\n",
      "4 : resting_BP\n",
      "5 : serum_cholestoral\n",
      "6 : fasting_BP\n",
      "7 : resting_electrocardiographic\n",
      "8 : maximum_heartRate\n",
      "9 : exercise_induced_angina\n",
      "10 : oldpeak\n",
      "11 : slope_peak_ex\n",
      "12 : no_of_major_vessels\n",
      "13 : thal\n",
      "14 : num\n",
      " select a number to predict particular value 14\n",
      "14\n"
     ]
    }
   ],
   "source": [
    "for i in range(0,len(cols)):\n",
    "    print(f\"{i+1} : {cols[i]}\")\n",
    "\n",
    "value = int(input(\" select a number to predict particular value \"))\n",
    "print(value)\n",
    "if isinstance(value,int) and value > 0 and value < 15:\n",
    "        to_predict=cols[value-1]\n",
    "else:\n",
    "    print(\"wrong entry\") "
   ]
  },
  {
   "cell_type": "code",
   "execution_count": 102,
   "id": "27c8e0de",
   "metadata": {},
   "outputs": [],
   "source": [
    "X_newTrain=train_set.drop(to_predict, axis='columns')\n",
    "Y_newTrain=train_set[to_predict]\n",
    "X_newTest=test_set.drop(to_predict, axis='columns')\n",
    "Y_newTest=test_set[to_predict]\n"
   ]
  },
  {
   "cell_type": "code",
   "execution_count": 103,
   "id": "ad94e5fd",
   "metadata": {
    "scrolled": true
   },
   "outputs": [
    {
     "name": "stdout",
     "output_type": "stream",
     "text": [
      "0.8666666666666667\n",
      "logistic regression score of predict attribute num is 0.8666666666666667\n"
     ]
    },
    {
     "name": "stderr",
     "output_type": "stream",
     "text": [
      "C:\\Users\\Abdul Sammad\\anaconda3\\lib\\site-packages\\sklearn\\linear_model\\_logistic.py:814: ConvergenceWarning: lbfgs failed to converge (status=1):\n",
      "STOP: TOTAL NO. of ITERATIONS REACHED LIMIT.\n",
      "\n",
      "Increase the number of iterations (max_iter) or scale the data as shown in:\n",
      "    https://scikit-learn.org/stable/modules/preprocessing.html\n",
      "Please also refer to the documentation for alternative solver options:\n",
      "    https://scikit-learn.org/stable/modules/linear_model.html#logistic-regression\n",
      "  n_iter_i = _check_optimize_result(\n"
     ]
    }
   ],
   "source": [
    "from sklearn.linear_model import LinearRegression\n",
    "from sklearn.linear_model import LogisticRegression\n",
    "if(to_predict == 'age' or to_predict == 'resting_BP' or to_predict == 'serum_cholestoral' or to_predict=='maximum_heartRate'):\n",
    "    regr = LinearRegression()\n",
    "    regr.fit(X_liTrain, Y_liTrain)\n",
    "    print(f\"Liner regression score of predict attribute {to_predict} is {regr.score(X_newTest, Y_newTest)}\")\n",
    "else :\n",
    "    regr = LogisticRegression()\n",
    "    regr.fit(X_newTrain, Y_newTrain)\n",
    "    print(f\"logistic regression score of predict attribute {to_predict} is {regr.score(X_newTest, Y_newTest)}\")"
   ]
  }
 ],
 "metadata": {
  "kernelspec": {
   "display_name": "Python 3 (ipykernel)",
   "language": "python",
   "name": "python3"
  },
  "language_info": {
   "codemirror_mode": {
    "name": "ipython",
    "version": 3
   },
   "file_extension": ".py",
   "mimetype": "text/x-python",
   "name": "python",
   "nbconvert_exporter": "python",
   "pygments_lexer": "ipython3",
   "version": "3.9.13"
  }
 },
 "nbformat": 4,
 "nbformat_minor": 5
}
